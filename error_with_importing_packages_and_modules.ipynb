{
  "nbformat": 4,
  "nbformat_minor": 0,
  "metadata": {
    "colab": {
      "name": "error_with_importing_packages_and_modules.ipynb",
      "provenance": [],
      "collapsed_sections": [],
      "include_colab_link": true
    },
    "kernelspec": {
      "name": "python3",
      "display_name": "Python 3"
    }
  },
  "cells": [
    {
      "cell_type": "markdown",
      "metadata": {
        "id": "view-in-github",
        "colab_type": "text"
      },
      "source": [
        "<a href=\"https://colab.research.google.com/github/eda-ricercatore/scienza_dei_dati/blob/master/error_with_importing_packages_and_modules.ipynb\" target=\"_parent\"><img src=\"https://colab.research.google.com/assets/colab-badge.svg\" alt=\"Open In Colab\"/></a>"
      ]
    },
    {
      "cell_type": "code",
      "metadata": {
        "id": "SrN3nRJx_JiT",
        "colab_type": "code",
        "outputId": "b0e9d25a-8097-455f-886d-ba50a267dd2b",
        "colab": {
          "base_uri": "https://localhost:8080/",
          "height": 374
        }
      },
      "source": [
        "from google.colab import drive\n",
        "drive.mount('/content/drive')\n",
        "\n",
        "!ls -al /content/drive/My\\ Drive/Colab\\ Notebooks\n",
        "!cd /content/drive/My\\ Drive/Colab\\ Notebooks\n",
        "!ls -al \n",
        "!ls -al another_module.py\n",
        "\n",
        "#import sys\n",
        "#sys.path.append('/content/drive/My\\ Drive/Colab\\ Notebooks/')"
      ],
      "execution_count": 2,
      "outputs": [
        {
          "output_type": "stream",
          "text": [
            "Drive already mounted at /content/drive; to attempt to forcibly remount, call drive.mount(\"/content/drive\", force_remount=True).\n",
            "total 18116\n",
            "-rw------- 1 root root     3415 Nov  3 15:41  another_module.py\n",
            "-rw------- 1 root root     5097 Nov  2 04:30  determine-if-gpus-or-tpus-are-used.ipynb\n",
            "-rw------- 1 root root     4889 Nov  4 23:46  error_with_importing_packages_and_modules.ipynb\n",
            "-rw------- 1 root root       25 Nov  1 20:56  __init__.py\n",
            "-rw------- 1 root root    14418 Jun 21 06:34  jeff-dean-wannabes.ipynb\n",
            "-rw------- 1 root root    10937 Nov  1 20:56  keywords_display.ipynb\n",
            "-rw------- 1 root root     2614 Nov  3 15:24 'My Copy of Install rohan.ipynb'\n",
            "-rw------- 1 root root    20976 May 20 21:07  my_terrible_summer.ipynb\n",
            "-rw------- 1 root root 18466677 Nov  1 16:03  references.bib\n",
            "drwx------ 2 root root     4096 Nov  1 15:54  statistics\n",
            "-rw------- 1 root root    11212 Nov  3 16:29  try_to_import_package_and_modules.ipynb\n",
            "drwx------ 2 root root     4096 Nov  1 15:54  utilities\n",
            "total 20\n",
            "drwxr-xr-x 1 root root 4096 Nov  4 23:46 .\n",
            "drwxr-xr-x 1 root root 4096 Nov  4 23:32 ..\n",
            "drwxr-xr-x 1 root root 4096 Oct 30 15:14 .config\n",
            "drwx------ 3 root root 4096 Nov  4 23:46 drive\n",
            "drwxr-xr-x 1 root root 4096 Oct 25 16:58 sample_data\n",
            "ls: cannot access 'another_module.py': No such file or directory\n"
          ],
          "name": "stdout"
        }
      ]
    },
    {
      "cell_type": "markdown",
      "metadata": {
        "id": "eC2jL3CmzwBv",
        "colab_type": "text"
      },
      "source": [
        "\n",
        "\n",
        "\n",
        "###############################################################\n",
        "#\tImport Custom Python Modules\n",
        "\n",
        "\"\"\"\n",
        "#import scienza_dei_dati\n",
        "import utilities\n",
        "# Module to test if I can import a Python package and module.\n",
        "from utilities.simple_module import simple\n",
        "\"\"\"\n",
        "\n",
        "\n",
        "import another_module\n",
        "\n",
        "\n",
        "\n",
        "\n",
        "###############################################################\n",
        "#\tModule with methods that clean BibTeX files.\n",
        "class Try_to_Import_Package:\n",
        "\t\"\"\"\n",
        "\t\tNumber of times that the \"Hello World\" print function\n",
        "\t\t\thas been called.\n",
        "\t\"\"\"\n",
        "\tnumber_times_executed = 0\n",
        "\t# =========================================================\n",
        "\t#\tAccessor and Mutator method.\n",
        "\t# =========================================================\n",
        "\t#\tMethod to print the number of times that the\n",
        "\t#\t\t\"Hello World\" print function has been called, and\n",
        "\t#\t\tincrement this number by one.\n",
        "\t#\t@return - Nothing.\n",
        "\t#\tO(1) method.\n",
        "\t@staticmethod\n",
        "\tdef get_number_times_executed():\n",
        "\t\tTry_to_Import_Package.number_times_executed = Try_to_Import_Package.number_times_executed + 1\n",
        "\t\tprint(\"\tTry_to_Import_Package 'Hello World' function called:\",Try_to_Import_Package.number_times_executed,\"times.\")\n",
        "\n",
        "\n",
        "\n",
        "\n",
        "\n",
        "\n",
        "\"\"\"\n",
        "\thttps://colab.research.google.com/github/MYUSERNAME/MYREPOSITORY/blob/MYBRANCH/PATH/TO/MYNOTEBOOK.ipynb\n",
        "\n",
        "\n",
        "\"\"\"\n",
        "\n",
        "\n",
        "###############################################################\n",
        "# Main method for the program.\n",
        "\n",
        "#\tIf this is executed as a Python script,\n",
        "if __name__ == \"__main__\":\n",
        "\tfor x in range(10):\n",
        "\t\tanother.get_number_times_executed()\n",
        "\t\tTry_to_Import_Package.get_number_times_executed()\n",
        "\t\n"
      ]
    }
  ]
}